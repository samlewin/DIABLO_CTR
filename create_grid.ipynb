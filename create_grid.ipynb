{
 "cells": [
  {
   "cell_type": "code",
   "execution_count": 1,
   "metadata": {},
   "outputs": [],
   "source": [
    "import numpy as np\n",
    "import matplotlib.pyplot as plt\n",
    "import h5py"
   ]
  },
  {
   "cell_type": "markdown",
   "metadata": {},
   "source": [
    "STRETCH GRID CREATE"
   ]
  },
  {
   "cell_type": "code",
   "execution_count": 35,
   "metadata": {},
   "outputs": [
    {
     "name": "stdout",
     "output_type": "stream",
     "text": [
      "total grid points: 617\n",
      "spacing:  0.017531209004407328\n"
     ]
    }
   ],
   "source": [
    "delta = 2*np.pi\n",
    "outer_grid_points = int(84)\n",
    "central_grid_points = 448\n",
    "# outer_grid_points = int(80)\n",
    "# central_grid_points = 512\n",
    "central_LY = 1.25*delta\n",
    "x = np.zeros(outer_grid_points) \n",
    "spacing=central_LY/central_grid_points\n",
    "total_grid_points = 2*outer_grid_points+central_grid_points+1\n",
    "print('total grid points:', total_grid_points)\n",
    "print('spacing: ', spacing)"
   ]
  },
  {
   "cell_type": "code",
   "execution_count": 36,
   "metadata": {},
   "outputs": [
    {
     "name": "stdout",
     "output_type": "stream",
     "text": [
      "5.742947258256472\n"
     ]
    }
   ],
   "source": [
    "x[0]\n",
    "for i in range(outer_grid_points): \n",
    "    if i ==0:\n",
    "        x[i]=spacing\n",
    "    else:\n",
    "        # x[i] = x[i-1]*1.035\n",
    "        x[i] = x[i-1]*1.028\n",
    "        \n",
    "print(np.sum(x))"
   ]
  },
  {
   "cell_type": "code",
   "execution_count": 37,
   "metadata": {},
   "outputs": [],
   "source": [
    "y_middle = np.linspace(-central_LY/2-spacing/2,central_LY/2+spacing/2, central_grid_points+2)\n",
    "y_upper = y_middle[-1] + np.cumsum(x)\n",
    "y_lower = -np.flip(y_upper)\n",
    "y = np.concatenate((y_lower, y_middle, y_upper))\n",
    "gyf = (y[:-1] + y[1:])/2"
   ]
  },
  {
   "cell_type": "code",
   "execution_count": 38,
   "metadata": {},
   "outputs": [
    {
     "data": {
      "text/plain": [
       "[<matplotlib.lines.Line2D at 0x112d2faf0>]"
      ]
     },
     "execution_count": 38,
     "metadata": {},
     "output_type": "execute_result"
    },
    {
     "data": {
      "image/png": "[encoded data removed]",
      "text/plain": [
       "<Figure size 640x480 with 1 Axes>"
      ]
     },
     "metadata": {},
     "output_type": "display_data"
    }
   ],
   "source": [
    "plt.plot(y)"
   ]
  },
  {
   "cell_type": "code",
   "execution_count": 39,
   "metadata": {},
   "outputs": [
    {
     "data": {
      "text/plain": [
       "19.18393096626655"
      ]
     },
     "execution_count": 39,
     "metadata": {},
     "output_type": "execute_result"
    }
   ],
   "source": [
    "gyf[-1]-gyf[0]"
   ]
  },
  {
   "cell_type": "code",
   "execution_count": 40,
   "metadata": {},
   "outputs": [],
   "source": [
    "grid = h5py.File('grid.h5','w')\n",
    "grid.create_group('grids')\n",
    "grid.create_dataset('grids/y', data=y)\n",
    "grid.close()"
   ]
  },
  {
   "cell_type": "code",
   "execution_count": 41,
   "metadata": {},
   "outputs": [],
   "source": [
    "np.save('grid_gyf', gyf)"
   ]
  },
  {
   "cell_type": "code",
   "execution_count": 42,
   "metadata": {},
   "outputs": [
    {
     "name": "stdout",
     "output_type": "stream",
     "text": [
      "NY: 23.0\n"
     ]
    }
   ],
   "source": [
    "zdim=256\n",
    "ydim=total_grid_points\n",
    "xdim=512\n",
    "y_nodes = 28\n",
    "amp=0.1\n",
    "T_start = 0\n",
    "print('NY:', (total_grid_points-1)/y_nodes+1)"
   ]
  },
  {
   "cell_type": "code",
   "execution_count": 54,
   "metadata": {},
   "outputs": [],
   "source": [
    "L = 2*np.pi\n",
    "x,y,z = np.linspace(-L,L,512),gyf,np.linspace(0,L,256)\n",
    "x,y,z = np.meshgrid(y,x,z)"
   ]
  },
  {
   "cell_type": "code",
   "execution_count": 55,
   "metadata": {},
   "outputs": [
    {
     "name": "stdout",
     "output_type": "stream",
     "text": [
      "1 0.3333333333333333\n"
     ]
    }
   ],
   "source": [
    "#Params\n",
    "kx, ky, kz = -1,1,4\n",
    "Fr = 1\n",
    "Ri = 1\n",
    "s = 1\n",
    "\n",
    "omega = np.sqrt(Ri*(kx**2+ky**2)/(kx**2+ky**2+kz**2))\n",
    "print(Fr, omega)"
   ]
  },
  {
   "cell_type": "code",
   "execution_count": 56,
   "metadata": {},
   "outputs": [
    {
     "name": "stdout",
     "output_type": "stream",
     "text": [
      "-0.3465735902799726 -0.33333333333333326\n"
     ]
    }
   ],
   "source": [
    "#find trapping location\n",
    "print(np.arctanh((omega-np.sqrt(Ri))/kx -1), ((omega-np.sqrt(Ri))/kx -1))"
   ]
  },
  {
   "cell_type": "code",
   "execution_count": 62,
   "metadata": {},
   "outputs": [],
   "source": [
    "u = np.tanh(y) + Ri*np.exp(-(y+2)**2)*s*omega*kx/(kx**2+ky**2)*np.sin(kx*x+ky*y+kz*z)\n",
    "v = Ri*np.exp(-(y+2)**2)*s*omega*ky/(kx**2+ky**2)*np.sin(kx*x+ky*y+kz*z)\n",
    "w = -np.exp(-(y+2)**2)*s*omega/kz*np.sin(kx*x+ky*y+kz*z)\n",
    "b = np.exp(-(y+2)**2)*s/kz*np.cos(kx*x+ky*y+kz*z)\n",
    "b_t = b + z"
   ]
  },
  {
   "cell_type": "code",
   "execution_count": 58,
   "metadata": {},
   "outputs": [
    {
     "data": {
      "text/plain": [
       "(512, 617, 256)"
      ]
     },
     "execution_count": 58,
     "metadata": {},
     "output_type": "execute_result"
    }
   ],
   "source": [
    "u.shape"
   ]
  },
  {
   "cell_type": "code",
   "execution_count": 63,
   "metadata": {},
   "outputs": [],
   "source": [
    "U = np.swapaxes(u,0,2)\n",
    "V = np.swapaxes(v,0,2)\n",
    "W = np.swapaxes(w,0,2)\n",
    "TH = np.swapaxes(b,0,2)"
   ]
  },
  {
   "cell_type": "code",
   "execution_count": 64,
   "metadata": {},
   "outputs": [
    {
     "data": {
      "text/plain": [
       "(256, 617, 512)"
      ]
     },
     "execution_count": 64,
     "metadata": {},
     "output_type": "execute_result"
    }
   ],
   "source": [
    "V.shape"
   ]
  },
  {
   "cell_type": "code",
   "execution_count": 67,
   "metadata": {},
   "outputs": [
    {
     "name": "stdout",
     "output_type": "stream",
     "text": [
      "Saved file start.h5 in current working directory\n"
     ]
    }
   ],
   "source": [
    "with h5py.File('start.h5', 'w') as hf:\n",
    "        hf.attrs['Resolution'] = np.array([xdim,ydim,zdim])\n",
    "        hf.create_group('Timestep')\n",
    "        hf['Timestep'].attrs['Time'] = T_start\n",
    "        hf.create_dataset('Timestep/U', data=U)\n",
    "        hf.create_dataset('Timestep/V', data=V)\n",
    "        hf.create_dataset('Timestep/W', data=W)\n",
    "        hf.create_dataset('Timestep/TH1', data=TH)            \n",
    "        print('Saved file start.h5 in current working directory')"
   ]
  },
  {
   "cell_type": "code",
   "execution_count": 68,
   "metadata": {},
   "outputs": [
    {
     "name": "stdout",
     "output_type": "stream",
     "text": [
      "(256, 617, 512) (256, 617, 512) (256, 617, 512) (256, 617, 512)\n"
     ]
    }
   ],
   "source": [
    "print(U.shape, V.shape, W.shape, TH.shape)"
   ]
  }
 ],
 "metadata": {
  "kernelspec": {
   "display_name": "Python 3.10.12 ('dedalus3')",
   "language": "python",
   "name": "python3"
  },
  "language_info": {
   "codemirror_mode": {
    "name": "ipython",
    "version": 3
   },
   "file_extension": ".py",
   "mimetype": "text/x-python",
   "name": "python",
   "nbconvert_exporter": "python",
   "pygments_lexer": "ipython3",
   "version": "3.10.12"
  },
  "vscode": {
   "interpreter": {
    "hash": "664b3415efe5f81f67f5372ddaf55c16bb9376fd756436e3e049aee278d48bf1"
   }
  }
 },
 "nbformat": 4,
 "nbformat_minor": 4
}
