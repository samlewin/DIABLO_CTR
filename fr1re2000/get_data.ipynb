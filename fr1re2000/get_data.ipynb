{
 "cells": [
  {
   "cell_type": "code",
   "execution_count": 2,
   "metadata": {},
   "outputs": [],
   "source": [
    "import numpy as np\n",
    "import matplotlib.pyplot as plt\n",
    "import xarray\n",
    "import h5py"
   ]
  },
  {
   "cell_type": "code",
   "execution_count": 7,
   "metadata": {},
   "outputs": [],
   "source": [
    "movie1 = h5py.File('movie2.h5', mode='a')\n",
    "# mean1 = h5py.File('../../../../../rds-t2-cs121-cST1G9ssMAA/sims/3d/6_8_1/meanbackup.h5', mode='a')\n",
    "# mean1 = h5py.File('../../../../../rds-t2-cs121-cST1G9ssMAA/sims/3d/6_8_1_nodecel/mean2.h5', mode='a')"
   ]
  },
  {
   "cell_type": "code",
   "execution_count": 9,
   "metadata": {},
   "outputs": [
    {
     "data": {
      "text/plain": [
       "<KeysViewHDF5 ['omega_z_xy', 'omega_z_xz', 'th1_xy', 'u_xy', 'v_xz']>"
      ]
     },
     "execution_count": 9,
     "metadata": {},
     "output_type": "execute_result"
    }
   ],
   "source": [
    "movie1.keys()"
   ]
  },
  {
   "cell_type": "code",
   "execution_count": 7,
   "metadata": {},
   "outputs": [],
   "source": [
    "def shorten(file):\n",
    "    del file['omega_x']\n",
    "    del file['omega_y']\n",
    "    del file['omega_z']\n",
    "    del file['FTx_uu']\n",
    "    del file['bckgrd_ext']\n",
    "    del file['cp']\n",
    "    del file['ke_3d']\n",
    "    del file['ke_kh']\n",
    "    del file['ke_mean_tot']\n",
    "    del file['ke_mean_tot_bulk']\n",
    "    del file['ke_tot_bulk']\n",
    "    del file['kh_ext']\n",
    "    del file['pv']\n",
    "    del file['th_b']\n",
    "    del file['thv_3d']\n",
    "    del file['tilt_ext']\n",
    "    del file['uv']\n",
    "    del file['uw']\n",
    "    del file['wv']\n",
    "    del file['y_b']\n",
    "    \n",
    "    "
   ]
  },
  {
   "cell_type": "code",
   "execution_count": 5,
   "metadata": {},
   "outputs": [],
   "source": [
    "def shorten_movie(file):\n",
    "    del file['epsilon_xz']\n",
    "    del file['epsilon_zy']\n",
    "    del file['epsilon_xy']\n",
    "    del file['omega_y_xy']\n",
    "    del file['omega_y_xz']\n",
    "    del file['omega_y_zy']\n",
    "    del file['omega_z_zy']\n",
    "    del file['pediss_xy']\n",
    "    del file['pediss_prime_xz']\n",
    "    del file['pediss_prime_xy']\n",
    "    del file['pediss_prime_zy']\n",
    "    del file['th1_xz']\n",
    "    del file['th1_zy']\n",
    "    del file['v_xy']\n",
    "    del file['v_zy']\n",
    "    del file['u_xz']\n",
    "    del file['u_zy']\n",
    "    del file['w_xz']\n",
    "    del file['w_zy']\n",
    "    del file['w_xy']"
   ]
  },
  {
   "cell_type": "code",
   "execution_count": 6,
   "metadata": {},
   "outputs": [],
   "source": [
    "shorten_movie(movie1)"
   ]
  },
  {
   "cell_type": "code",
   "execution_count": 11,
   "metadata": {},
   "outputs": [],
   "source": [
    "shorten(mean1)"
   ]
  },
  {
   "cell_type": "code",
   "execution_count": 7,
   "metadata": {},
   "outputs": [
    {
     "data": {
      "text/plain": [
       "<KeysViewHDF5 ['omega_z_xy', 'omega_z_xz', 'th1_xy', 'u_xy', 'v_xz']>"
      ]
     },
     "execution_count": 7,
     "metadata": {},
     "output_type": "execute_result"
    }
   ],
   "source": [
    "movie1.keys()"
   ]
  },
  {
   "cell_type": "code",
   "execution_count": 12,
   "metadata": {},
   "outputs": [
    {
     "data": {
      "text/plain": [
       "<KeysViewHDF5 ['BPE', 'dthdy01', 'dudx', 'dudy', 'dudz', 'dwdx', 'dwdy', 'dwdz', 'gyf', 'pe_diss01', 'pe_diss_prime01', 'shear', 'thme01', 'thrms01', 'thv01', 'time', 'ume', 'urms', 'vme', 'vrms', 'wme', 'wrms']>"
      ]
     },
     "execution_count": 12,
     "metadata": {},
     "output_type": "execute_result"
    }
   ],
   "source": [
    "mean1.keys()"
   ]
  },
  {
   "cell_type": "code",
   "execution_count": 13,
   "metadata": {},
   "outputs": [],
   "source": [
    "mean1.close()"
   ]
  },
  {
   "cell_type": "code",
   "execution_count": 10,
   "metadata": {},
   "outputs": [],
   "source": [
    "movie1.close()"
   ]
  },
  {
   "cell_type": "code",
   "execution_count": null,
   "metadata": {},
   "outputs": [],
   "source": [
    "#then use command:\n",
    "#h5repack movie2.h5 movie_reduced.h5"
   ]
  }
 ],
 "metadata": {
  "kernelspec": {
   "display_name": "Python 3.10.13 ('condaenv')",
   "language": "python",
   "name": "python3"
  },
  "language_info": {
   "codemirror_mode": {
    "name": "ipython",
    "version": 3
   },
   "file_extension": ".py",
   "mimetype": "text/x-python",
   "name": "python",
   "nbconvert_exporter": "python",
   "pygments_lexer": "ipython3",
   "version": "3.10.13"
  },
  "orig_nbformat": 4,
  "vscode": {
   "interpreter": {
    "hash": "87db6da9e15f20314767c5caeef4469163f5b11cb1a85da19cc70fe16bfc2076"
   }
  }
 },
 "nbformat": 4,
 "nbformat_minor": 2
}
